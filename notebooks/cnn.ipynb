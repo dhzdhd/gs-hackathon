{
 "cells": [
  {
   "cell_type": "code",
   "execution_count": 1,
   "metadata": {},
   "outputs": [],
   "source": [
    "import os\n",
    "from PIL import Image, ImageDraw\n",
    "import numpy as np\n",
    "import matplotlib.pyplot as plt\n",
    "import torch\n",
    "import torchvision as tv\n",
    "import torchvision.transforms as tvtf\n",
    "from torchvision.io import read_image\n",
    "from torch.utils.data import Dataset, DataLoader\n",
    "import pandas as pd\n",
    "import torch.nn as nn"
   ]
  },
  {
   "cell_type": "code",
   "execution_count": 2,
   "metadata": {},
   "outputs": [],
   "source": [
    "IMAGE_FOLDER = '../datasets/mcq10k'\n",
    "IMAGE_METADATA = '../datasets/mcq10k/mcq10k.csv'"
   ]
  },
  {
   "cell_type": "code",
   "execution_count": 3,
   "metadata": {},
   "outputs": [],
   "source": [
    "device = (\n",
    "    \"cuda\"\n",
    "    if torch.cuda.is_available()\n",
    "    else \"mps\"\n",
    "    if torch.backends.mps.is_available()\n",
    "    else \"cpu\"\n",
    ")"
   ]
  },
  {
   "cell_type": "code",
   "execution_count": 4,
   "metadata": {},
   "outputs": [],
   "source": [
    "class OMRDataset(Dataset):\n",
    "    def __init__(self, annotations_file, img_dir, transform=None, target_transform=None):\n",
    "        self.img_labels = pd.read_csv(annotations_file)\n",
    "        self.img_dir = img_dir\n",
    "        self.transform = transform\n",
    "        self.target_transform = target_transform\n",
    "\n",
    "    def __len__(self):\n",
    "        return len(self.img_labels)\n",
    "\n",
    "    def __getitem__(self, idx):\n",
    "        img_path = os.path.join(self.img_dir, self.img_labels.iloc[idx, 0])\n",
    "        image = read_image(img_path)\n",
    "\n",
    "        label = torch.from_numpy( self.img_labels.iloc[idx, 1:].to_numpy(dtype=np.float64))\n",
    "        if self.transform:\n",
    "            image = self.transform(image)\n",
    "        if self.target_transform:\n",
    "            label = self.target_transform(label)\n",
    "        return image, label"
   ]
  },
  {
   "cell_type": "code",
   "execution_count": 5,
   "metadata": {},
   "outputs": [],
   "source": [
    "transform = tvtf.Compose([ tvtf.Resize((227, 227)), tvtf.ConvertImageDtype(torch.float64), tvtf.Normalize(0.5, 0.5), ])\n",
    "trainset = OMRDataset(IMAGE_METADATA, IMAGE_FOLDER, transform=transform)"
   ]
  },
  {
   "cell_type": "code",
   "execution_count": 6,
   "metadata": {},
   "outputs": [],
   "source": [
    "train_dataloader = DataLoader(trainset, batch_size=64, shuffle=True)"
   ]
  },
  {
   "cell_type": "code",
   "execution_count": 7,
   "metadata": {},
   "outputs": [
    {
     "name": "stdout",
     "output_type": "stream",
     "text": [
      "Feature batch shape: torch.Size([64, 1, 227, 227])\n",
      "Labels batch shape: torch.Size([64, 4])\n"
     ]
    },
    {
     "data": {
      "image/png": "[encoded data removed]",
      "text/plain": [
       "<Figure size 640x480 with 1 Axes>"
      ]
     },
     "metadata": {},
     "output_type": "display_data"
    },
    {
     "name": "stdout",
     "output_type": "stream",
     "text": [
      "Label: tensor([2., 4., 4., 1.], dtype=torch.float64)\n"
     ]
    }
   ],
   "source": [
    "train_features, train_labels = next(iter(train_dataloader))\n",
    "\n",
    "print(f\"Feature batch shape: {train_features.size()}\")\n",
    "print(f\"Labels batch shape: {train_labels.size()}\")\n",
    "\n",
    "img = train_features[0].squeeze()\n",
    "label = train_labels\n",
    "plt.imshow(img, cmap=\"gray\")\n",
    "plt.show()\n",
    "\n",
    "print(f\"Label: {label[0]}\")"
   ]
  },
  {
   "cell_type": "code",
   "execution_count": 8,
   "metadata": {},
   "outputs": [
    {
     "data": {
      "text/plain": [
       "AlexNetSingleChannel(\n",
       "  (features): Sequential(\n",
       "    (0): Conv2d(1, 64, kernel_size=(11, 11), stride=(4, 4), padding=(2, 2))\n",
       "    (1): ReLU(inplace=True)\n",
       "    (2): MaxPool2d(kernel_size=3, stride=2, padding=0, dilation=1, ceil_mode=False)\n",
       "    (3): Conv2d(64, 192, kernel_size=(5, 5), stride=(1, 1), padding=(2, 2))\n",
       "    (4): ReLU(inplace=True)\n",
       "    (5): MaxPool2d(kernel_size=3, stride=2, padding=0, dilation=1, ceil_mode=False)\n",
       "    (6): Conv2d(192, 384, kernel_size=(3, 3), stride=(1, 1), padding=(1, 1))\n",
       "    (7): ReLU(inplace=True)\n",
       "    (8): Conv2d(384, 256, kernel_size=(3, 3), stride=(1, 1), padding=(1, 1))\n",
       "    (9): ReLU(inplace=True)\n",
       "    (10): Conv2d(256, 256, kernel_size=(3, 3), stride=(1, 1), padding=(1, 1))\n",
       "    (11): ReLU(inplace=True)\n",
       "    (12): MaxPool2d(kernel_size=3, stride=2, padding=0, dilation=1, ceil_mode=False)\n",
       "  )\n",
       "  (avgpool): AdaptiveAvgPool2d(output_size=(6, 6))\n",
       "  (classifier): Sequential(\n",
       "    (0): Dropout(p=0.5, inplace=False)\n",
       "    (1): Linear(in_features=9216, out_features=4096, bias=True)\n",
       "    (2): ReLU(inplace=True)\n",
       "    (3): Dropout(p=0.5, inplace=False)\n",
       "    (4): Linear(in_features=4096, out_features=4096, bias=True)\n",
       "    (5): ReLU(inplace=True)\n",
       "    (6): Linear(in_features=4096, out_features=4, bias=True)\n",
       "  )\n",
       ")"
      ]
     },
     "execution_count": 8,
     "metadata": {},
     "output_type": "execute_result"
    }
   ],
   "source": [
    "class AlexNetSingleChannel(nn.Module):\n",
    "    def __init__(self, num_classes: int = 1000, dropout: float = 0.5) -> None:\n",
    "        super().__init__()\n",
    "        self.features = nn.Sequential(\n",
    "            nn.Conv2d(1, 64, kernel_size=11, stride=4, padding=2),\n",
    "            nn.ReLU(inplace=True),\n",
    "            nn.MaxPool2d(kernel_size=3, stride=2),\n",
    "            nn.Conv2d(64, 192, kernel_size=5, padding=2),\n",
    "            nn.ReLU(inplace=True),\n",
    "            nn.MaxPool2d(kernel_size=3, stride=2),\n",
    "            nn.Conv2d(192, 384, kernel_size=3, padding=1),\n",
    "            nn.ReLU(inplace=True),\n",
    "            nn.Conv2d(384, 256, kernel_size=3, padding=1),\n",
    "            nn.ReLU(inplace=True),\n",
    "            nn.Conv2d(256, 256, kernel_size=3, padding=1),\n",
    "            nn.ReLU(inplace=True),\n",
    "            nn.MaxPool2d(kernel_size=3, stride=2),\n",
    "        )\n",
    "        self.avgpool = nn.AdaptiveAvgPool2d((6, 6))\n",
    "        self.classifier = nn.Sequential(\n",
    "            nn.Dropout(p=dropout),\n",
    "            nn.Linear(256 * 6 * 6, 4096),\n",
    "            nn.ReLU(inplace=True),\n",
    "            nn.Dropout(p=dropout),\n",
    "            nn.Linear(4096, 4096),\n",
    "            nn.ReLU(inplace=True),\n",
    "            nn.Linear(4096, num_classes),\n",
    "        )\n",
    "\n",
    "    def forward(self, x: torch.Tensor) -> torch.Tensor:\n",
    "        x = self.features(x)\n",
    "        x = self.avgpool(x)\n",
    "        x = torch.flatten(x, 1)\n",
    "        x = self.classifier(x)\n",
    "        return x\n",
    "\n",
    "model = AlexNetSingleChannel(num_classes=4, dropout=0.5).to(device=device)\n",
    "model"
   ]
  },
  {
   "cell_type": "code",
   "execution_count": 9,
   "metadata": {},
   "outputs": [],
   "source": [
    "learning_rate = 0.00001\n",
    "num_epochs = 10\n",
    "\n",
    "\n",
    "loss_fn = torch.nn.BCEWithLogitsLoss()\n",
    "optimizer = torch.optim.SGD(model.parameters(), lr=learning_rate, weight_decay = 0.005, momentum = 0.9)"
   ]
  },
  {
   "cell_type": "code",
   "execution_count": 10,
   "metadata": {},
   "outputs": [
    {
     "data": {
      "text/plain": [
       "tensor(0.7167, device='cuda:0', dtype=torch.float64,\n",
       "       grad_fn=<BinaryCrossEntropyWithLogitsBackward0>)"
      ]
     },
     "execution_count": 10,
     "metadata": {},
     "output_type": "execute_result"
    }
   ],
   "source": [
    "data = next(iter(train_dataloader))\n",
    "output = model(data[0].float().to(device))\n",
    "loss = loss_fn(output, data[1].to(device))\n",
    "loss"
   ]
  },
  {
   "cell_type": "code",
   "execution_count": 11,
   "metadata": {},
   "outputs": [
    {
     "name": "stdout",
     "output_type": "stream",
     "text": [
      "Epoch [1/10], Step [157/157], Loss: 0.6951\n",
      "Epoch [2/10], Step [157/157], Loss: 0.6766\n",
      "Epoch [3/10], Step [157/157], Loss: 0.6475\n",
      "Epoch [4/10], Step [157/157], Loss: 0.6287\n",
      "Epoch [5/10], Step [157/157], Loss: 0.6157\n",
      "Epoch [6/10], Step [157/157], Loss: 0.5927\n",
      "Epoch [7/10], Step [157/157], Loss: 0.5601\n",
      "Epoch [8/10], Step [157/157], Loss: 0.5335\n",
      "Epoch [9/10], Step [157/157], Loss: 0.5043\n",
      "Epoch [10/10], Step [157/157], Loss: 0.4863\n"
     ]
    }
   ],
   "source": [
    "total_step = len(train_dataloader)\n",
    "\n",
    "for epoch in range(num_epochs):\n",
    "    for i, (images, labels) in enumerate(train_dataloader):\n",
    "        images = images.float().to(device)\n",
    "        labels = labels.to(device)\n",
    "\n",
    "        outputs = model(images)\n",
    "        loss = loss_fn(outputs, labels)\n",
    "\n",
    "        optimizer.zero_grad()\n",
    "        loss.backward()\n",
    "        optimizer.step()\n",
    "\n",
    "    print ('Epoch [{}/{}], Step [{}/{}], Loss: {:.4f}'\n",
    "                   .format(epoch+1, num_epochs, i+1, total_step, loss))\n"
   ]
  },
  {
   "cell_type": "code",
   "execution_count": 13,
   "metadata": {},
   "outputs": [
    {
     "name": "stdout",
     "output_type": "stream",
     "text": [
      "tensor([0., 4., 4., 2.], dtype=torch.float64)\n"
     ]
    },
    {
     "data": {
      "image/png": "[encoded data removed]",
      "text/plain": [
       "<Figure size 640x480 with 1 Axes>"
      ]
     },
     "metadata": {},
     "output_type": "display_data"
    },
    {
     "name": "stdout",
     "output_type": "stream",
     "text": [
      "tensor([[0.1100, 0.1084, 0.1074, 0.1088],\n",
      "        [0.1068, 0.0999, 0.1064, 0.1112],\n",
      "        [0.1059, 0.1011, 0.1113, 0.1133],\n",
      "        [0.0954, 0.1003, 0.1035, 0.1139],\n",
      "        [0.1134, 0.1029, 0.1034, 0.1151],\n",
      "        [0.1012, 0.0978, 0.1086, 0.1045],\n",
      "        [0.1062, 0.1071, 0.1119, 0.1096],\n",
      "        [0.1060, 0.1046, 0.1078, 0.1155],\n",
      "        [0.0986, 0.1017, 0.1021, 0.1074],\n",
      "        [0.0989, 0.0997, 0.1032, 0.1178],\n",
      "        [0.1070, 0.1070, 0.1100, 0.1051],\n",
      "        [0.1083, 0.1143, 0.1070, 0.1053],\n",
      "        [0.1069, 0.1078, 0.1145, 0.1040],\n",
      "        [0.0992, 0.1076, 0.1067, 0.1088],\n",
      "        [0.1067, 0.1052, 0.1140, 0.1040],\n",
      "        [0.1122, 0.1018, 0.1090, 0.1159],\n",
      "        [0.1051, 0.1062, 0.1052, 0.1082],\n",
      "        [0.1036, 0.0986, 0.1125, 0.1111],\n",
      "        [0.1169, 0.1034, 0.1075, 0.1062],\n",
      "        [0.1143, 0.1045, 0.1072, 0.1082],\n",
      "        [0.1024, 0.1072, 0.1124, 0.1016],\n",
      "        [0.1102, 0.1022, 0.1077, 0.1113],\n",
      "        [0.1122, 0.1112, 0.1138, 0.1098],\n",
      "        [0.1143, 0.1025, 0.1090, 0.1127],\n",
      "        [0.1041, 0.1082, 0.1132, 0.1041],\n",
      "        [0.0986, 0.1066, 0.1110, 0.1081],\n",
      "        [0.1134, 0.1004, 0.1142, 0.1060],\n",
      "        [0.1091, 0.0976, 0.1052, 0.1081],\n",
      "        [0.1053, 0.1032, 0.1046, 0.1137],\n",
      "        [0.1058, 0.1021, 0.1095, 0.1106],\n",
      "        [0.1053, 0.1030, 0.0970, 0.1052],\n",
      "        [0.1063, 0.1006, 0.1156, 0.1142],\n",
      "        [0.1171, 0.1102, 0.1144, 0.1105],\n",
      "        [0.1078, 0.0998, 0.1049, 0.1043],\n",
      "        [0.1005, 0.1045, 0.1113, 0.1102],\n",
      "        [0.1035, 0.1024, 0.1110, 0.1040],\n",
      "        [0.1039, 0.1013, 0.0987, 0.1046],\n",
      "        [0.1059, 0.1036, 0.1062, 0.0980],\n",
      "        [0.1063, 0.0999, 0.1176, 0.1109],\n",
      "        [0.1131, 0.0983, 0.1160, 0.1071],\n",
      "        [0.1055, 0.1014, 0.1038, 0.1052],\n",
      "        [0.1083, 0.1061, 0.1167, 0.1078],\n",
      "        [0.1038, 0.1025, 0.1132, 0.1130],\n",
      "        [0.1029, 0.0944, 0.1119, 0.1092],\n",
      "        [0.1019, 0.1044, 0.1134, 0.1044],\n",
      "        [0.1153, 0.1040, 0.1159, 0.1068],\n",
      "        [0.1056, 0.0989, 0.1144, 0.1012],\n",
      "        [0.1118, 0.1012, 0.1111, 0.1074],\n",
      "        [0.1075, 0.0990, 0.1081, 0.1082],\n",
      "        [0.1094, 0.1055, 0.1067, 0.1076],\n",
      "        [0.1045, 0.1028, 0.1052, 0.1128],\n",
      "        [0.1122, 0.1019, 0.1203, 0.1135],\n",
      "        [0.1102, 0.1094, 0.1085, 0.1102],\n",
      "        [0.1099, 0.1063, 0.1092, 0.1115],\n",
      "        [0.1088, 0.1039, 0.1180, 0.1082],\n",
      "        [0.1085, 0.0999, 0.1137, 0.1049],\n",
      "        [0.1092, 0.1089, 0.1123, 0.1079],\n",
      "        [0.1023, 0.0987, 0.1044, 0.1096],\n",
      "        [0.1073, 0.1059, 0.1119, 0.1108],\n",
      "        [0.1070, 0.1017, 0.1130, 0.1091],\n",
      "        [0.1094, 0.1056, 0.1125, 0.1061],\n",
      "        [0.1078, 0.1021, 0.1116, 0.1169],\n",
      "        [0.1007, 0.1030, 0.1094, 0.1006],\n",
      "        [0.1062, 0.1025, 0.1123, 0.1055]], device='cuda:0')\n"
     ]
    },
    {
     "name": "stderr",
     "output_type": "stream",
     "text": [
      "C:\\Users\\ragas\\AppData\\Local\\Temp\\ipykernel_10544\\2401984502.py:17: UserWarning: Implicit dimension choice for softmax has been deprecated. Change the call to include dim=X as an argument.\n",
      "  outputs = nn.functional.softmax(outputs)\n"
     ]
    },
    {
     "ename": "RuntimeError",
     "evalue": "The size of tensor a (64) must match the size of tensor b (4) at non-singleton dimension 1",
     "output_type": "error",
     "traceback": [
      "\u001b[1;31m---------------------------------------------------------------------------\u001b[0m",
      "\u001b[1;31mRuntimeError\u001b[0m                              Traceback (most recent call last)",
      "Cell \u001b[1;32mIn[13], line 21\u001b[0m\n\u001b[0;32m     19\u001b[0m     predicted \u001b[38;5;241m=\u001b[39m torch\u001b[38;5;241m.\u001b[39margmax(outputs\u001b[38;5;241m.\u001b[39mdata, \u001b[38;5;241m1\u001b[39m)\n\u001b[0;32m     20\u001b[0m     total \u001b[38;5;241m+\u001b[39m\u001b[38;5;241m=\u001b[39m labels\u001b[38;5;241m.\u001b[39msize(\u001b[38;5;241m0\u001b[39m)\n\u001b[1;32m---> 21\u001b[0m     correct \u001b[38;5;241m+\u001b[39m\u001b[38;5;241m=\u001b[39m (\u001b[43mpredicted\u001b[49m\u001b[43m \u001b[49m\u001b[38;5;241;43m==\u001b[39;49m\u001b[43m \u001b[49m\u001b[43mlabels\u001b[49m)\u001b[38;5;241m.\u001b[39msum()\u001b[38;5;241m.\u001b[39mitem()\n\u001b[0;32m     22\u001b[0m     \u001b[38;5;28;01mdel\u001b[39;00m images, labels, outputs\n\u001b[0;32m     24\u001b[0m \u001b[38;5;28mprint\u001b[39m(\u001b[38;5;124m'\u001b[39m\u001b[38;5;124mAccuracy of the network on the \u001b[39m\u001b[38;5;132;01m{}\u001b[39;00m\u001b[38;5;124m test images: \u001b[39m\u001b[38;5;132;01m{}\u001b[39;00m\u001b[38;5;124m \u001b[39m\u001b[38;5;124m%\u001b[39m\u001b[38;5;124m'\u001b[39m\u001b[38;5;241m.\u001b[39mformat(\u001b[38;5;241m10000\u001b[39m, \u001b[38;5;241m100\u001b[39m \u001b[38;5;241m*\u001b[39m correct \u001b[38;5;241m/\u001b[39m total))\n",
      "\u001b[1;31mRuntimeError\u001b[0m: The size of tensor a (64) must match the size of tensor b (4) at non-singleton dimension 1"
     ]
    }
   ],
   "source": [
    "with torch.no_grad():\n",
    "    correct = 0\n",
    "    total = 0\n",
    "    for images, labels in train_dataloader:\n",
    "        img = images[0].squeeze()\n",
    "        print(labels[0])\n",
    "\n",
    "        images = images.float().to(device)\n",
    "        labels = labels.to(device)\n",
    "\n",
    "\n",
    "        plt.imshow(img, cmap=\"gray\")\n",
    "        plt.show()\n",
    "\n",
    "        outputs = model(images)\n",
    "        print(outputs)\n",
    "        outputs = nn.functional.softmax(outputs)\n",
    "\n",
    "        predicted = torch.argmax(outputs.data, 1)\n",
    "        total += labels.size(0)\n",
    "        correct += (predicted == labels).sum().item()\n",
    "        del images, labels, outputs\n",
    "\n",
    "    print('Accuracy of the network on the {} test images: {} %'.format(10000, 100 * correct / total))\n"
   ]
  },
  {
   "cell_type": "code",
   "execution_count": null,
   "metadata": {},
   "outputs": [],
   "source": []
  }
 ],
 "metadata": {
  "kernelspec": {
   "display_name": "Python 3",
   "language": "python",
   "name": "python3"
  },
  "language_info": {
   "codemirror_mode": {
    "name": "ipython",
    "version": 3
   },
   "file_extension": ".py",
   "mimetype": "text/x-python",
   "name": "python",
   "nbconvert_exporter": "python",
   "pygments_lexer": "ipython3",
   "version": "3.12.2"
  }
 },
 "nbformat": 4,
 "nbformat_minor": 2
}
