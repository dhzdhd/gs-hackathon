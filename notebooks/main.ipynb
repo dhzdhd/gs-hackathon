{
 "cells": [
  {
   "cell_type": "code",
   "execution_count": 56,
   "metadata": {},
   "outputs": [],
   "source": [
    "import os\n",
    "from PIL import Image, ImageDraw\n",
    "import numpy as np\n",
    "from skimage.feature import blob_dog, blob_log, blob_doh\n",
    "import matplotlib.pyplot as plt\n",
    "from functools import reduce"
   ]
  },
  {
   "cell_type": "code",
   "execution_count": 57,
   "metadata": {},
   "outputs": [
    {
     "data": {
      "image/png": "[encoded data removed]",
      "text/plain": [
       "<Figure size 900x300 with 1 Axes>"
      ]
     },
     "metadata": {},
     "output_type": "display_data"
    }
   ],
   "source": [
    "\n",
    "# Input format\n",
    "# omr_sheet_1.png\n",
    "# D A D C\n",
    "\n",
    "# file = input()\n",
    "# answer = input().split()\n",
    "\n",
    "file = \"../datasets/input/1.png\"\n",
    "answer = [\"D\", \"A\", \"D\", \"C\"]\n",
    "\n",
    "image = np.array(Image.open(file), dtype=np.float32)\n",
    "blobs = blob_doh(image, max_sigma=20, threshold=0.01)\n",
    "fig, axes = plt.subplots(1, 1, figsize=(9, 3), sharex=True, sharey=True)\n",
    "ax = axes\n",
    "ax.imshow(image)\n",
    "\n",
    "for idx, blob in enumerate(blobs):\n",
    "    y, x, r = blob\n",
    "    c = plt.Circle((x, y), r, color=\"red\", linewidth=2, fill=False)\n",
    "    ax.add_patch(c)\n",
    "ax.set_axis_off()\n"
   ]
  },
  {
   "cell_type": "code",
   "execution_count": 58,
   "metadata": {},
   "outputs": [],
   "source": [
    "def get_x(pos: float) -> str | None :\n",
    "    if 45.0 <= pos <= 52.0:\n",
    "        return 'A'\n",
    "    elif 178.0 <= pos <= 186.0:\n",
    "        return 'B'\n",
    "    elif 310.0 <= pos <= 320.0:\n",
    "        return 'C'\n",
    "    elif 445.0 <= pos <= 453.0:\n",
    "        return 'D'\n",
    "    else:\n",
    "        return None\n",
    "\n",
    "def get_y(pos: float) -> int | None :\n",
    "    if 45.0 <= pos <= 52.0:\n",
    "        return 0\n",
    "    elif 178.0 <= pos <= 186.0:\n",
    "        return 1\n",
    "    elif 310.0 <= pos <= 320.0:\n",
    "        return 2\n",
    "    elif 445.0 <= pos <= 453.0:\n",
    "        return 3\n",
    "    else:\n",
    "        return None\n"
   ]
  },
  {
   "cell_type": "code",
   "execution_count": 59,
   "metadata": {},
   "outputs": [
    {
     "name": "stdout",
     "output_type": "stream",
     "text": [
      "(15.777777777777779, 449.0, 49.0)\n",
      "(15.777777777777779, 49.0, 182.0)\n",
      "(15.777777777777779, 449.0, 315.0)\n",
      "(15.777777777777779, 315.0, 449.0)\n"
     ]
    }
   ],
   "source": [
    "answers = ['', '', '', '']\n",
    "\n",
    "for idx, blob in enumerate(blobs):\n",
    "    y, x, r = blob\n",
    "\n",
    "    if r > 14 and r < 20 and len(answers) <= 4:\n",
    "        img = Image.open(file)\n",
    "\n",
    "        print((r, x, y))\n",
    "\n",
    "        if (idx := get_y(y)) is not None:\n",
    "            opt = get_x(x)\n",
    "            if opt is not None:\n",
    "                answers[idx] = opt\n",
    "\n",
    "        bbox = (x-r, y-r, x+r, y+r)\n",
    "        output = img.crop(bbox)\n",
    "\n",
    "        # plt.imshow(output)\n",
    "        # plt.show()"
   ]
  },
  {
   "cell_type": "code",
   "execution_count": 60,
   "metadata": {},
   "outputs": [],
   "source": [
    "count = 0\n",
    "for (idx, x) in enumerate(answers):\n",
    "    if x == answer[idx]:\n",
    "        count += 1"
   ]
  },
  {
   "cell_type": "code",
   "execution_count": 61,
   "metadata": {},
   "outputs": [
    {
     "data": {
      "text/plain": [
       "4"
      ]
     },
     "execution_count": 61,
     "metadata": {},
     "output_type": "execute_result"
    }
   ],
   "source": [
    "count"
   ]
  },
  {
   "cell_type": "code",
   "execution_count": null,
   "metadata": {},
   "outputs": [],
   "source": []
  }
 ],
 "metadata": {
  "kernelspec": {
   "display_name": "Python 3",
   "language": "python",
   "name": "python3"
  },
  "language_info": {
   "codemirror_mode": {
    "name": "ipython",
    "version": 3
   },
   "file_extension": ".py",
   "mimetype": "text/x-python",
   "name": "python",
   "nbconvert_exporter": "python",
   "pygments_lexer": "ipython3",
   "version": "3.12.2"
  }
 },
 "nbformat": 4,
 "nbformat_minor": 2
}
